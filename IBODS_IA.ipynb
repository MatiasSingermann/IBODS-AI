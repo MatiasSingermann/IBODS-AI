{
  "nbformat": 4,
  "nbformat_minor": 0,
  "metadata": {
    "colab": {
      "name": "IBODS IA.ipynb",
      "provenance": [],
      "authorship_tag": "ABX9TyOFem6TOwHt+O9buAWgzc+N",
      "include_colab_link": true
    },
    "kernelspec": {
      "name": "python3",
      "display_name": "Python 3"
    },
    "language_info": {
      "name": "python"
    }
  },
  "cells": [
    {
      "cell_type": "markdown",
      "metadata": {
        "id": "view-in-github",
        "colab_type": "text"
      },
      "source": [
        "<a href=\"https://colab.research.google.com/github/MatiasSingermann/IBODS-AI/blob/main/IBODS_IA.ipynb\" target=\"_parent\"><img src=\"https://colab.research.google.com/assets/colab-badge.svg\" alt=\"Open In Colab\"/></a>"
      ]
    },
    {
      "cell_type": "markdown",
      "source": [
        "#Importacion de librerias:\n",
        "\n",
        "*   Numpy\n",
        "*   Matplotlib\n",
        "*   Pillow\n",
        "\n",
        "\n",
        "\n",
        "\n"
      ],
      "metadata": {
        "id": "N3Aj7vbPkAfS"
      }
    },
    {
      "cell_type": "code",
      "execution_count": null,
      "metadata": {
        "id": "bnA78D7Nj9Hc"
      },
      "outputs": [],
      "source": [
        "import numpy as np\n",
        "import matplotlib.pyplot as plt\n",
        "from PIL import Image\n",
        "import os\n",
        "import cv2"
      ]
    },
    {
      "cell_type": "markdown",
      "source": [
        "## I.A"
      ],
      "metadata": {
        "id": "ZYbF2-CqkxkW"
      }
    },
    {
      "cell_type": "code",
      "source": [],
      "metadata": {
        "id": "O2EhU6DCk2PL"
      },
      "execution_count": null,
      "outputs": []
    }
  ]
}